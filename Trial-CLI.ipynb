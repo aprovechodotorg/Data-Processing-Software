{
 "cells": [
  {
   "cell_type": "markdown",
   "id": "4a7cfccf",
   "metadata": {},
   "source": [
    "# Level 1+2 Jupyter Notebook"
   ]
  },
  {
   "cell_type": "markdown",
   "id": "b7c81083",
   "metadata": {},
   "source": [
    "To run this Jupyter Note book\n",
    "1) Go to kernel → Restart & Run All\n",
    "2) Scoll back to top of the page and hit here where it says \"Click here to show/hide codes in this notebook\" (optional)\n",
    "3) Jupyer Notebook will run "
   ]
  },
  {
   "cell_type": "code",
   "execution_count": null,
   "id": "060f5cea",
   "metadata": {},
   "outputs": [],
   "source": [
    "from IPython.display import HTML\n",
    "HTML('''\n",
    "<script>\n",
    "code_show=false;\n",
    "function code_toggle(){\n",
    "    if(code_show){$('.prompt, .input, .output_stderr, .output_error').hide();}\n",
    "    else{$('.input, .prompt, .output_stderr, .output_error').show();}\n",
    "    code_show=!code_show;\n",
    "}\n",
    "function initialize(){\n",
    "    document.body.style.fontFamily='Palatino';\n",
    "    var output=$('.output_subarea.output_text.output_stream.output_stdout');\n",
    "    $.merge(output,$('.output_subarea.output_text.output_result'));\n",
    "    for(var i=0;i<output.length;i++)for(var j=0;j<output[i].children.length;j++)\n",
    "        output[i].children[j].style.fontFamily='Palatino';\n",
    "    code_toggle();\n",
    "}\n",
    "$(document).ready(initialize);\n",
    "</script>\n",
    "Click <a href=\"javascript:code_toggle()\">here</a> to show/hide codes in this notebook.\n",
    "''')"
   ]
  },
  {
   "cell_type": "code",
   "execution_count": null,
   "id": "fb0b0b5e",
   "metadata": {},
   "outputs": [],
   "source": [
    "print(\"Code is running\")"
   ]
  },
  {
   "cell_type": "markdown",
   "id": "37779c5d",
   "metadata": {},
   "source": [
    "# Setup \n",
    "Be prepared to answer questions: \n",
    "    \n",
    "    1) Type of Computer System \n",
    "    2) Test Type \n",
    "    3) Number of tests run  "
   ]
  },
  {
   "cell_type": "code",
   "execution_count": null,
   "id": "f626ae91",
   "metadata": {},
   "outputs": [],
   "source": [
    "%%capture\n",
    "!pip install openpyxl;\n",
    "!pip install uncertainties;\n",
    "!pip install tabulate;\n",
    "!pip install xlrd; \n",
    "!pip install scipy; \n",
    "!pip install easygui; "
   ]
  },
  {
   "cell_type": "code",
   "execution_count": null,
   "id": "811c6b99",
   "metadata": {},
   "outputs": [],
   "source": [
    "import sys; sys.path.insert(0, '.')\n",
    "import os\n",
    "import pandas as pd\n",
    "import uncertainties\n",
    "from uncertainties import ufloat\n",
    "import csv\n",
    "from datetime import datetime as dt\n",
    "from tabulate import tabulate\n",
    "from LEMS_MakeInputFile_EnergyCalcs import LEMS_MakeInputFile_EnergyCalcs\n",
    "import colorama\n",
    "from colorama import Fore, Back, Style"
   ]
  },
  {
   "cell_type": "code",
   "execution_count": null,
   "id": "9accd615",
   "metadata": {},
   "outputs": [],
   "source": [
    "print(\"Please specify computer system. Put L for Linux and W for windows\")\n",
    "comp_program = str(input())"
   ]
  },
  {
   "cell_type": "code",
   "execution_count": null,
   "id": "fa245968",
   "metadata": {},
   "outputs": [],
   "source": [
    "if comp_program =='L' or comp_program == 'l':\n",
    "    print(\"You have a Linux System\")\n",
    "    print(\"Please specify test type. Put 19867 for iso 19867 (LEMS) and 19869 for iso 19869 (PEMS)\")\n",
    "    test_type = int(input())\n",
    "elif comp_program == 'W' or comp_program == 'w': \n",
    "    print(\"You have a Windows System\")\n",
    "    print(\"Please specify test type. Put 19867 for iso 19867 (LEMS) and 19869 for iso 19869 (PEMS)\")\n",
    "    test_type = int(input())\n",
    "else: \n",
    "    print(\"You have not entered a possible computer system \")"
   ]
  },
  {
   "cell_type": "code",
   "execution_count": null,
   "id": "663b820d",
   "metadata": {},
   "outputs": [],
   "source": [
    "print(\"How many tests did you perform?\")\n",
    "num_tests = int(input())\n",
    "testnames=[]"
   ]
  },
  {
   "cell_type": "markdown",
   "id": "5b20969a",
   "metadata": {},
   "source": [
    "# Path for Data Entry form \n",
    "\n",
    "The path to the data entry form is the location of the data entry form on your computer\n",
    "An example of how to get location of a file is \n",
    "1) Open File Explorer \n",
    "2) Double Click on file (will open a menu of options) \n",
    "3) Click copy path \n",
    "4) Enter path when prompted but DO NOT INCLUDE QUOATION MARKS (\") \n",
    "\n",
    "The file input must be a spreadsheet (ends in .xlsx) "
   ]
  },
  {
   "cell_type": "code",
   "execution_count": null,
   "id": "f6e0648f",
   "metadata": {},
   "outputs": [],
   "source": [
    "directory_list=[]\n",
    "file_list=[]\n",
    "testname_list = []\n",
    "for x in range(num_tests):\n",
    "    sheetinputpath= input(\"Input path of data entry form (spreadsheet):\\n\")\n",
    "    directory, filename = os.path.split(sheetinputpath)\n",
    "    datadirectory, testname = os.path.split(directory)\n",
    "    logname = testname + '_log.txt'\n",
    "    logpath = os.path.join(directory, logname)\n",
    "    inputpath=sheetinputpath\n",
    "    outputpath=os.path.join(directory,testname+'_EnergyInputs.csv')\n",
    "    LEMS_MakeInputFile_EnergyCalcs(inputpath,outputpath,logpath)\n",
    "    directory_list.append(directory)\n",
    "    file_list.append(filename)\n",
    "    testname_list.append(testname)\n"
   ]
  },
  {
   "cell_type": "code",
   "execution_count": null,
   "id": "5379a948",
   "metadata": {},
   "outputs": [],
   "source": [
    "print(\"Would you like to calculate energy metrics? Press 0-No 1-Yes\")\n",
    "forward = int(input())"
   ]
  },
  {
   "cell_type": "code",
   "execution_count": null,
   "id": "6d21640a",
   "metadata": {},
   "outputs": [],
   "source": [
    "if forward == 1:\n",
    "    if test_type == 19867: \n",
    "            import LEMS_EnergyCalcs as EnergyCalcs\n",
    "            import LEMS_EnergyCalcs_L2 as EnergyCalcs2  \n",
    "    elif test_type == 19869:\n",
    "        print(\"No code has yet been figured out for this test type\")\n",
    "    else: \n",
    "        print(\"Test Type unavaible\")\n",
    "else: \n",
    "    print(\"Calculating Energy Metrics skipped\")"
   ]
  },
  {
   "cell_type": "code",
   "execution_count": null,
   "id": "bca4f3f4",
   "metadata": {},
   "outputs": [],
   "source": [
    "if forward == 1:\n",
    "    if test_type == 19867: \n",
    "        for idx in range (num_tests):\n",
    "            cstr= \" This is for \" + testname_list[idx] + \" \"\n",
    "            print (Fore.BLUE + cstr.center(70, '-'))\n",
    "            print(Style.RESET_ALL)\n",
    "            inputpath=os.path.join(directory_list[idx],testname_list[idx]+'_EnergyInputs.csv')\n",
    "            outputpath=os.path.join(directory_list[idx],testname_list[idx]+'_EnergyOutputs.csv')\n",
    "            trial, units, uval = EnergyCalcs.LEMS_EnergyCalcs(inputpath, outputpath, logpath)\n",
    "            if num_tests == 1: \n",
    "                x_data = 0 \n",
    "                idx = 0\n",
    "                for key, value in trial['hp'].items(): \n",
    "                    x_data = x_data + 1\n",
    "                data = [0]*x_data\n",
    "                for key, value in trial['hp'].items():\n",
    "                    data[idx] = [key, value]\n",
    "                    idx = idx + 1\n",
    "                idx = 0\n",
    "                for key, value in trial['mp'].items():\n",
    "                    data[idx].append(value)\n",
    "                    idx = idx + 1\n",
    "                idx = 0\n",
    "                for key, value in trial['lp'].items():\n",
    "                    data[idx].append(value)\n",
    "                    idx = idx + 1\n",
    "                idx = 0\n",
    "\n",
    "                x_const = 20 \n",
    "                idx = 0\n",
    "                constants = [0]*x_const\n",
    "                for key, value in uval.items():\n",
    "                    if idx < x_const:\n",
    "                        constants[idx] = [key,value]\n",
    "                        idx = idx + 1 \n",
    "        if num_tests > 1: \n",
    "            inputpath = []\n",
    "            for idx in range(num_tests):\n",
    "                inpath=os.path.join(directory_list[idx],testname_list[idx]+'_EnergyInputs.csv')\n",
    "                inputpath.append(inpath)\n",
    "\n",
    "            outputpath=os.path.join(directory,testname+'_EnergyOutputs_Combined.csv')\n",
    "\n",
    "            trial,averages, data_values, N, stadev, interval, high_tier, low_tier, COV = EnergyCalcs2.LEMS_EnergyCalcs_L2(inputpath, outputpath, testname_list)\n",
    "            x_data = 0 \n",
    "            idx = 0\n",
    "            for key, value in trial[testname_list[0]].items(): \n",
    "                x_data = x_data + 1\n",
    "            data = [0]*x_data\n",
    "            test = 0\n",
    "            for names in testname_list:\n",
    "                if test == 0: \n",
    "                    for key, value in trial[names].items():\n",
    "                        data[idx] = [key, value]\n",
    "                        idx = idx + 1\n",
    "                    test = test + 1\n",
    "                    idx= 0\n",
    "                else:  \n",
    "                    for key,value in trial[names].items():\n",
    "                        data[idx].append(value)\n",
    "                        idx = idx +1\n",
    "                    test = test + 1\n",
    "                    idx = 0\n",
    "    "
   ]
  },
  {
   "cell_type": "markdown",
   "id": "672eb209",
   "metadata": {},
   "source": [
    "# Constants "
   ]
  },
  {
   "cell_type": "code",
   "execution_count": null,
   "id": "ab7ead83",
   "metadata": {
    "scrolled": false
   },
   "outputs": [],
   "source": [
    "if forward == 1:\n",
    "    if test_type == 19867: \n",
    "        if num_tests == 1:\n",
    "            head = [\"Varaible\", \"Value\"]\n",
    "            print(tabulate(constants, tablefmt=\"grid\"))\n",
    "        else: \n",
    "            print (\"no info given\")\n",
    "    "
   ]
  },
  {
   "cell_type": "markdown",
   "id": "af513b9e",
   "metadata": {},
   "source": [
    "# Engergy Calculations"
   ]
  },
  {
   "cell_type": "code",
   "execution_count": null,
   "id": "57cc4e45",
   "metadata": {
    "scrolled": false
   },
   "outputs": [],
   "source": [
    "if forward == 1:\n",
    "    if test_type == 19867: \n",
    "        if num_tests == 1: \n",
    "            head = [\"Varaible\", \"High Power Value\", \"Medium Power Value\",\"Low Power Value\", \"Units\"]\n",
    "            print(tabulate(data, headers=head, tablefmt=\"grid\"))\n",
    "        else: \n",
    "            head = [] \n",
    "            head.append(\"Variable\")\n",
    "            for names in testname_list: \n",
    "                head.append(names)\n",
    "            print(tabulate(data, headers=head, tablefmt=\"grid\"))"
   ]
  },
  {
   "cell_type": "markdown",
   "id": "874c01da",
   "metadata": {},
   "source": [
    "# Comparison"
   ]
  },
  {
   "cell_type": "code",
   "execution_count": null,
   "id": "2a64a304",
   "metadata": {},
   "outputs": [],
   "source": [
    "if forward == 1: \n",
    "    if test_type == 19867: \n",
    "        if num_tests == 1:\n",
    "            print(\"No comparison needed\")\n",
    "        else:\n",
    "            x_data = 0\n",
    "            idx  = 0\n",
    "\n",
    "            # find number of values \n",
    "            for key,value in averages.items():\n",
    "                x_data = x_data + 1\n",
    "            holder = [0]*x_data\n",
    "\n",
    "            # add averages to list \n",
    "            for key,value in averages.items():\n",
    "                holder[idx]=[key,value]\n",
    "                idx = idx + 1\n",
    "            idx = 0\n",
    "\n",
    "            # add N to list \n",
    "            for k_N,v_N in N.items():\n",
    "                holder[idx].append(v_N)\n",
    "                idx = idx + 1\n",
    "            idx = 0\n",
    "\n",
    "            #add stadev to list \n",
    "            for k_s,v_s in stadev.items():\n",
    "                holder[idx].append(v_s)\n",
    "                idx = idx + 1\n",
    "            idx = 0\n",
    "\n",
    "            #add interval to list \n",
    "            for k_i,v_i in stadev.items():\n",
    "                holder[idx].append(v_i)\n",
    "                idx = idx + 1\n",
    "            idx = 0\n",
    "\n",
    "            #add high_tier to list \n",
    "            for k_h,v_h in high_tier.items():\n",
    "                holder[idx].append(v_h)\n",
    "                idx = idx + 1\n",
    "            idx = 0\n",
    "\n",
    "            #add low tier to list \n",
    "            for k_l,v_l in low_tier.items():\n",
    "                holder[idx].append(v_l)\n",
    "                idx = idx + 1\n",
    "            idx = 0\n",
    "\n",
    "            #add COV to list \n",
    "            for k_c,v_c in COV.items():\n",
    "                holder[idx].append(v_c)\n",
    "                idx = idx + 1\n",
    "            idx = 0\n",
    "\n",
    "            head = [\"Variable\", \"Averages\", \"N\",\"Stadev\", \"Interval\", \"High Tier\", \"Low Tier\", \"COV\"]\n",
    "\n",
    "            print(tabulate(holder,headers = head, tablefmt=\"grid\"))\n"
   ]
  },
  {
   "cell_type": "markdown",
   "id": "2dbc6ae6",
   "metadata": {},
   "source": [
    "# Adjust Calculations\n"
   ]
  },
  {
   "cell_type": "code",
   "execution_count": null,
   "id": "878aff87",
   "metadata": {},
   "outputs": [],
   "source": [
    "print(\"Would you like to adjust sensor calibrations? Press 0-No 1-Yes\")\n",
    "forward = int(input())"
   ]
  },
  {
   "cell_type": "code",
   "execution_count": null,
   "id": "a0104f46",
   "metadata": {},
   "outputs": [],
   "source": [
    "if forward == 1: \n",
    "    if test_type == 19867:\n",
    "        import LEMS_Adjust_Calibrations as adjust\n",
    "    elif test_type == 19869:\n",
    "        print(\"No code has yet been figured out for this test type\")\n",
    "    else: \n",
    "        print(\"Test Type unavaible\")\n",
    "else:\n",
    "    print(\"Adust Sensor Calibrations skipped\")"
   ]
  },
  {
   "cell_type": "code",
   "execution_count": null,
   "id": "b85fe86b",
   "metadata": {
    "scrolled": false
   },
   "outputs": [],
   "source": [
    "if forward == 1:  \n",
    "    if test_type == 19867: \n",
    "        for idx in range (num_tests):\n",
    "            cstr= \" This is for \" + testname_list[idx] + \" \"\n",
    "            print (Fore.BLUE + cstr.center(70, '-'))\n",
    "            print(Style.RESET_ALL)\n",
    "            inputpath=os.path.join(directory_list[idx],testname_list[idx]+'_RawData.csv')\n",
    "            outputpath=os.path.join(directory_list[idx],testname_list[idx]+'_RawData_Recalibrated.csv')\n",
    "            headerpath = os.path.join(directory_list[idx],testname_list[idx]+'_Header.csv')\n",
    "            adjust.LEMS_Adjust_Calibrations(inputpath,outputpath,headerpath,logpath)"
   ]
  },
  {
   "cell_type": "markdown",
   "id": "ef010cb5",
   "metadata": {},
   "source": [
    "# Time Shift Calculations "
   ]
  },
  {
   "cell_type": "code",
   "execution_count": null,
   "id": "9ed9255e",
   "metadata": {},
   "outputs": [],
   "source": [
    "print(\"Would you like to correct for response times? Press 0-No 1-Yes\")\n",
    "forward = int(input())"
   ]
  },
  {
   "cell_type": "code",
   "execution_count": null,
   "id": "8ae2e6ec",
   "metadata": {},
   "outputs": [],
   "source": [
    "if forward == 1: \n",
    "    if test_type == 19867:\n",
    "        import LEMS_ShiftTimeSeries as time\n",
    "    elif test_type == 19869:\n",
    "        print(\"No code has yet been figured out for this test type\")\n",
    "    else: \n",
    "        print(\"Test Type unavaible\")\n",
    "else: \n",
    "    print(\"Correcting for response times skipped\")"
   ]
  },
  {
   "cell_type": "code",
   "execution_count": null,
   "id": "0d4da511",
   "metadata": {
    "scrolled": false
   },
   "outputs": [],
   "source": [
    "if forward == 1: \n",
    "    if test_type == 19867:\n",
    "        for idx in range(num_tests):\n",
    "            cstr= \" This is for \" + testname_list[idx] + \" \"\n",
    "            print (Fore.BLUE + cstr.center(70, '-'))\n",
    "            print(Style.RESET_ALL)\n",
    "            inputpath=os.path.join(directory_list[idx],testname_list[idx]+'_RawData_Recalibrated.csv')\n",
    "            outputpath=os.path.join(directory_list[idx],testname_list[idx]+'_RawData_Shifted.csv')\n",
    "            timespath = os.path.join(directory_list[idx],testname_list[idx]+'_TimeShifts.csv')\n",
    "            time.LEMS_ShiftTimeSeries(inputpath,outputpath,timespath,logpath)"
   ]
  },
  {
   "cell_type": "markdown",
   "id": "88291740",
   "metadata": {},
   "source": [
    "#  Subtracting background"
   ]
  },
  {
   "cell_type": "code",
   "execution_count": null,
   "id": "08cce285",
   "metadata": {},
   "outputs": [],
   "source": [
    "print(\"Would you like to subtract background? Press 0-No 1-Yes\")\n",
    "forward = int(input())"
   ]
  },
  {
   "cell_type": "code",
   "execution_count": null,
   "id": "17f77015",
   "metadata": {},
   "outputs": [],
   "source": [
    "if forward == 1: \n",
    "    if test_type == 19867:\n",
    "        import LEMS_SubtractBkg as sub\n",
    "    elif test_type == 19869:\n",
    "        print(\"No code has yet been figured out for this test type\")\n",
    "    else: \n",
    "        print(\"Test Type unavaible\")\n",
    "else: \n",
    "    print(\"Subtracting Background skipped\")"
   ]
  },
  {
   "cell_type": "code",
   "execution_count": null,
   "id": "27a480cc",
   "metadata": {
    "scrolled": false
   },
   "outputs": [],
   "source": [
    "if forward == 1: \n",
    "    if test_type == 19867: \n",
    "        for idx in range(num_tests):   \n",
    "            cstr= \" This is for \" + testname_list[idx] + \" \"\n",
    "            print (Fore.BLUE + cstr.center(70, '-'))\n",
    "            print(Style.RESET_ALL)\n",
    "            inputpath=os.path.join(directory_list[idx],testname_list[idx]+'_RawData_Shifted.csv')\n",
    "            energyinputpath = os.path.join(directory_list[idx],testname_list[idx]+'_EnergyInputs.csv')\n",
    "            outputpath=os.path.join(directory_list[idx],testname_list[idx]+'_TimeSeries.csv')\n",
    "            aveoutputpath=os.path.join(directory_list[idx],testname_list[idx]+'_Averages.csv')\n",
    "            timespath = os.path.join(directory_list[idx],testname_list[idx]+'_PhaseTimes.csv')\n",
    "            sub.LEMS_SubtractBkg(inputpath,energyinputpath,outputpath,aveoutputpath,timespath,logpath)"
   ]
  },
  {
   "cell_type": "markdown",
   "id": "6cdadd52",
   "metadata": {},
   "source": [
    "# Grav Calculations \n"
   ]
  },
  {
   "cell_type": "code",
   "execution_count": null,
   "id": "6cb3c061",
   "metadata": {},
   "outputs": [],
   "source": [
    "print(\"Would you like to calculate gravimetric PM? Press 0-No 1-Yes\")\n",
    "forward = int(input())"
   ]
  },
  {
   "cell_type": "code",
   "execution_count": null,
   "id": "eaf93964",
   "metadata": {},
   "outputs": [],
   "source": [
    "if forward == 1: \n",
    "    if test_type == 19867: \n",
    "        import LEMS_GravCalcs as GravCalcs\n",
    "    elif test_type == 19869:\n",
    "        print(\"No code has yet been figured out for this test type\")\n",
    "    else: \n",
    "        print(\"Test Type unavaible\")\n",
    "else: \n",
    "    print(\"Gravimetric Calulations skipped\")"
   ]
  },
  {
   "cell_type": "code",
   "execution_count": null,
   "id": "fb766263",
   "metadata": {},
   "outputs": [],
   "source": [
    "if forward == 1:\n",
    "    if test_type == 19867: \n",
    "        for idx in range(num_tests):\n",
    "            cstr= \" This is for \" + testname_list[idx] + \" \"\n",
    "            print (Fore.BLUE + cstr.center(70, '-'))\n",
    "            print(Style.RESET_ALL)\n",
    "            gravinputpath=os.path.join(directory_list[idx],testname_list[idx]+'_GravInputs.csv')\n",
    "            aveinputpath = os.path.join(directory_list[idx],testname_list[idx]+'_Averages.csv')\n",
    "            timespath = os.path.join(directory_list[idx],testname_list[idx]+'_PhaseTimes.csv')\n",
    "            gravoutputpath=os.path.join(directory_list[idx],testname_list[idx]+'_GravOutputs.csv')\n",
    "            GravCalcs.LEMS_GravCalcs(gravinputpath,aveinputpath,timespath,gravoutputpath,logpath)"
   ]
  },
  {
   "cell_type": "markdown",
   "id": "f1fcaec6",
   "metadata": {},
   "source": [
    "#  Emmision Calculations "
   ]
  },
  {
   "cell_type": "code",
   "execution_count": null,
   "id": "f2bda648",
   "metadata": {},
   "outputs": [],
   "source": [
    "print(\"Would you like to calculate emission metrics? Press 0-No 1-Yes\")\n",
    "forward = int(input())"
   ]
  },
  {
   "cell_type": "code",
   "execution_count": null,
   "id": "561b6091",
   "metadata": {},
   "outputs": [],
   "source": [
    "if forward == 1: \n",
    "    if test_type == 19867: \n",
    "        import LEMS_EmissionCalcs as emis\n",
    "    elif test_type == 19869:\n",
    "        print(\"No code has yet been figured out for this test type\")\n",
    "    else: \n",
    "        print(\"Test Type unavaible\")\n",
    "else: \n",
    "    print(\"Calulating Emission Metrics skipped\")"
   ]
  },
  {
   "cell_type": "code",
   "execution_count": null,
   "id": "70e4ac2f",
   "metadata": {
    "scrolled": false
   },
   "outputs": [],
   "source": [
    "if forward == 1: \n",
    "    if test_type == 19867: \n",
    "        for idx in range(num_tests):\n",
    "            cstr= \" This is for \" + testname_list[idx] + \" \"\n",
    "            print (Fore.BLUE + cstr.center(70, '-'))\n",
    "            print(Style.RESET_ALL)\n",
    "            inputpath=os.path.join(directory_list[idx],testname_list[idx]+'_TimeSeries.csv')\n",
    "            energypath=os.path.join(directory_list[idx],testname_list[idx]+'_EnergyOutputs.csv')\n",
    "            gravinputpath=os.path.join(directory_list[idx],testname_list[idx]+'_GravOutputs.csv')\n",
    "            aveinputpath = os.path.join(directory_list[idx],testname_list[idx]+'_Averages.csv')\n",
    "            timespath = os.path.join(directory_list[idx],testname_list[idx]+'_PhaseTimes.csv')\n",
    "            emisoutputpath=os.path.join(directory_list[idx],testname_list[idx]+'_EmissionOutputs.csv')\n",
    "            alloutputpath=os.path.join(directory_list[idx],testname_list[idx]+'_AllOutputs.csv')\n",
    "            allnames,allunits,allval,allunc,alluval = emis.LEMS_EmissionCalcs(inputpath,energypath,gravinputpath,aveinputpath,emisoutputpath,alloutputpath,logpath)\n",
    "            data = [0]*len(allnames)\n",
    "            for x in range(len(allnames)):\n",
    "                data[x] = [allnames[x], allunits[allnames[x]], allval[allnames[x]], allunc[allnames[x]]]\n",
    "            print(tabulate(data, tablefmt=\"grid\"))\n"
   ]
  }
 ],
 "metadata": {
  "kernelspec": {
   "display_name": "Python 3 (ipykernel)",
   "language": "python",
   "name": "python3"
  },
  "language_info": {
   "codemirror_mode": {
    "name": "ipython",
    "version": 3
   },
   "file_extension": ".py",
   "mimetype": "text/x-python",
   "name": "python",
   "nbconvert_exporter": "python",
   "pygments_lexer": "ipython3",
   "version": "3.9.13"
  }
 },
 "nbformat": 4,
 "nbformat_minor": 5
}
