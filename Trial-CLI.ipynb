{
 "cells": [
  {
   "cell_type": "markdown",
   "id": "4a7cfccf",
   "metadata": {},
   "source": [
    "# Level 1+2 Jupyter Notebook"
   ]
  },
  {
   "cell_type": "markdown",
   "id": "b7c81083",
   "metadata": {},
   "source": [
    "To run this Jupyter Note book\n",
    "1) Go to kernel → Restart & Run All\n",
    "2) Scoll back to top of the page and hit here where it says \"Click here to show/hide codes in this notebook\" (optional)\n",
    "3) Jupyer Notebook will run "
   ]
  },
  {
   "cell_type": "code",
   "execution_count": null,
   "id": "060f5cea",
   "metadata": {},
   "outputs": [],
   "source": [
    "from IPython.display import HTML\n",
    "HTML('''\n",
    "<script>\n",
    "code_show=false;\n",
    "function code_toggle(){\n",
    "    if(code_show){$('.prompt, .input, .output_stderr, .output_error').hide();}\n",
    "    else{$('.input, .prompt, .output_stderr, .output_error').show();}\n",
    "    code_show=!code_show;\n",
    "}\n",
    "function initialize(){\n",
    "    document.body.style.fontFamily='Palatino';\n",
    "    var output=$('.output_subarea.output_text.output_stream.output_stdout');\n",
    "    $.merge(output,$('.output_subarea.output_text.output_result'));\n",
    "    for(var i=0;i<output.length;i++)for(var j=0;j<output[i].children.length;j++)\n",
    "        output[i].children[j].style.fontFamily='Palatino';\n",
    "    code_toggle();\n",
    "}\n",
    "$(document).ready(initialize);\n",
    "</script>\n",
    "Click <a href=\"javascript:code_toggle()\">here</a> to show/hide codes in this notebook.\n",
    "''')"
   ]
  },
  {
   "cell_type": "code",
   "execution_count": null,
   "id": "fb0b0b5e",
   "metadata": {},
   "outputs": [],
   "source": [
    "print(\"Code is running\")"
   ]
  },
  {
   "cell_type": "markdown",
   "id": "37779c5d",
   "metadata": {},
   "source": [
    "# Setup \n",
    "Be prepared to answer questions: \n",
    "    \n",
    "    1) Type of Computer System \n",
    "    2) Test Type \n",
    "    3) Number of tests run  "
   ]
  },
  {
   "cell_type": "code",
   "execution_count": null,
   "id": "f626ae91",
   "metadata": {},
   "outputs": [],
   "source": [
    "%%capture\n",
    "!pip install openpyxl;\n",
    "!pip install uncertainties;\n",
    "!pip install tabulate;\n",
    "!pip install xlrd; \n",
    "!pip install scipy; \n",
    "!pip install easygui; "
   ]
  },
  {
   "cell_type": "code",
   "execution_count": null,
   "id": "811c6b99",
   "metadata": {},
   "outputs": [],
   "source": [
    "import sys; sys.path.insert(0, '.')\n",
    "import os\n",
    "import pandas as pd\n",
    "import uncertainties\n",
    "from uncertainties import ufloat\n",
    "import csv\n",
    "from datetime import datetime as dt\n",
    "from tabulate import tabulate\n",
    "from LEMS_MakeInputFile_EnergyCalcs import LEMS_MakeInputFile_EnergyCalcs\n",
    "import colorama\n",
    "from colorama import Fore, Back, Style"
   ]
  },
  {
   "cell_type": "code",
   "execution_count": null,
   "id": "9accd615",
   "metadata": {},
   "outputs": [],
   "source": [
    "print(\"Please specify computer system. Put L for Linux and W for windows\")\n",
    "comp_program = str(input())"
   ]
  },
  {
   "cell_type": "code",
   "execution_count": null,
   "id": "fa245968",
   "metadata": {},
   "outputs": [],
   "source": [
    "if comp_program =='L' or comp_program == 'l':\n",
    "    print(\"You have a Linux System\")\n",
    "    print(\"Please specify test type. Put 1894 for iso 1894 and 1952 for iso 1952\")\n",
    "    test_type = int(input())\n",
    "elif comp_program == 'W' or comp_program == 'w': \n",
    "    print(\"You have a Windows System\")\n",
    "    print(\"Please specify test type. Put 1894 for iso 1894 and 1952 for iso 1952\")\n",
    "    test_type = int(input())\n",
    "else: \n",
    "    print(\"You have not entered a possible computer system \")"
   ]
  },
  {
   "cell_type": "code",
   "execution_count": null,
   "id": "663b820d",
   "metadata": {},
   "outputs": [],
   "source": [
    "print(\"How many tests did you perform?\")\n",
    "num_tests = int(input())\n",
    "testnames=[]"
   ]
  },
  {
   "cell_type": "markdown",
   "id": "5b20969a",
   "metadata": {},
   "source": [
    "# Path for Data Entry form \n",
    "\n",
    "The path to the data entry form is the location of the data entry form on your computer\n",
    "An example of how to get location of a file is \n",
    "1) Open File Explorer \n",
    "2) Double Click on file (will open a menu of options) \n",
    "3) Click copy path \n",
    "4) Enter path when prompted but DO NOT INCLUDE QUOATION MARKS (\") \n",
    "\n",
    "The file input must be a spreadsheet (ends in .xlsx) "
   ]
  },
  {
   "cell_type": "code",
   "execution_count": null,
   "id": "f6e0648f",
   "metadata": {},
   "outputs": [],
   "source": [
    "directory_list=[]\n",
    "file_list=[]\n",
    "testname_list = []\n",
    "for x in range(num_tests):\n",
    "    sheetinputpath= input(\"Input path of data entry form (spreadsheet):\\n\")\n",
    "    directory, filename = os.path.split(sheetinputpath)\n",
    "    datadirectory, testname = os.path.split(directory)\n",
    "    logname = testname + '_log.txt'\n",
    "    logpath = os.path.join(directory, logname)\n",
    "    inputpath=sheetinputpath\n",
    "    outputpath=os.path.join(directory,testname+'_EnergyInputs.csv')\n",
    "    LEMS_MakeInputFile_EnergyCalcs(inputpath,outputpath,logpath)\n",
    "    directory_list.append(directory)\n",
    "    file_list.append(filename)\n",
    "    testname_list.append(testname)\n"
   ]
  },
  {
   "cell_type": "markdown",
   "id": "b6fcb8e0",
   "metadata": {},
   "source": [
    "# Note on Data Files \n",
    "\n",
    "All data files must be in the same file directory (same folder) as the excel file given above. From the excel file, the notebook will determine a test name. For future reference, the testname will be considered test in the descriptions below. \n"
   ]
  },
  {
   "cell_type": "markdown",
   "id": "51135f85",
   "metadata": {},
   "source": [
    "# Energy Metrics \n",
    "\n",
    "The Energy Metrics section will calculate values such as initial fuel temperature, initial water temperature, initial mass, final fuel temperature, max water temperature, final mass,useful energy delivered, cooking power, efficiency without char, efficiency with char, burn rate and fire power. These are some of the values calulated at high, medium, and low power. If you conduct multiple tests, there results will be compared in the comparison section. \n",
    "\n",
    "Must Have \n",
    "1) file in the same folder as the initial excel file with the name \"test_EnergyInputs.csv\" (in replace of test will be your test name)\n",
    "\n",
    "Must Run \n",
    "1) SetUp Section \n",
    "2) Path for Data Entry Form Section \n",
    "\n",
    "Will Output \n",
    "1) a file in the same folder as the initial excel file with the name \"test_EnergyOutputs.csv\" (in replace of test will be your test name)"
   ]
  },
  {
   "cell_type": "code",
   "execution_count": null,
   "id": "5379a948",
   "metadata": {},
   "outputs": [],
   "source": [
    "print(\"Would you like to calculate energy metrics? Press 0-No 1-Yes\")\n",
    "forward = int(input())"
   ]
  },
  {
   "cell_type": "code",
   "execution_count": null,
   "id": "6d21640a",
   "metadata": {},
   "outputs": [],
   "source": [
    "if forward == 1:\n",
    "    if test_type == 1894: \n",
    "            import LEMS_EnergyCalcs as EnergyCalcs\n",
    "            import LEMS_EnergyCalcs_L2 as EnergyCalcs2  \n",
    "    elif test_type == 1952:\n",
    "        print(\"No code has yet been figured out for this test type\")\n",
    "    else: \n",
    "        print(\"Test Type unavaible\")\n",
    "else: \n",
    "    print(\"Calculating Energy Metrics skipped\")"
   ]
  },
  {
   "cell_type": "code",
   "execution_count": null,
   "id": "bca4f3f4",
   "metadata": {},
   "outputs": [],
   "source": [
    "if forward == 1:\n",
    "    if test_type == 1894: \n",
    "        for idx in range (num_tests):\n",
    "            cstr= \" This is for \" + testname_list[idx] + \" \"\n",
    "            print (Fore.BLUE + cstr.center(70, '-'))\n",
    "            print(Style.RESET_ALL)\n",
    "            inputpath=os.path.join(directory_list[idx],testname_list[idx]+'_EnergyInputs.csv')\n",
    "            outputpath=os.path.join(directory_list[idx],testname_list[idx]+'_EnergyOutputs.csv')\n",
    "            trial, units, uval = EnergyCalcs.LEMS_EnergyCalcs(inputpath, outputpath, logpath)\n",
    "            if num_tests == 1: \n",
    "                x_data = 0 \n",
    "                idx = 0\n",
    "                for key, value in trial['hp'].items(): \n",
    "                    x_data = x_data + 1\n",
    "                data = [0]*x_data\n",
    "                for key, value in trial['hp'].items():\n",
    "                    data[idx] = [key, value]\n",
    "                    idx = idx + 1\n",
    "                idx = 0\n",
    "                for key, value in trial['mp'].items():\n",
    "                    data[idx].append(value)\n",
    "                    idx = idx + 1\n",
    "                idx = 0\n",
    "                for key, value in trial['lp'].items():\n",
    "                    data[idx].append(value)\n",
    "                    idx = idx + 1\n",
    "                idx = 0\n",
    "\n",
    "                x_const = 20 \n",
    "                idx = 0\n",
    "                constants = [0]*x_const\n",
    "                for key, value in uval.items():\n",
    "                    if idx < x_const:\n",
    "                        constants[idx] = [key,value]\n",
    "                        idx = idx + 1 \n",
    "        if num_tests > 1: \n",
    "            inputpath = []\n",
    "            for idx in range(num_tests):\n",
    "                inpath=os.path.join(directory_list[idx],testname_list[idx]+'_EnergyInputs.csv')\n",
    "                inputpath.append(inpath)\n",
    "\n",
    "            outputpath=os.path.join(directory,testname+'_EnergyOutputs_Combined.csv')\n",
    "\n",
    "            trial,averages, data_values, N, stadev, interval, high_tier, low_tier, COV = EnergyCalcs2.LEMS_EnergyCalcs_L2(inputpath, outputpath, testname_list)\n",
    "            x_data = 0 \n",
    "            idx = 0\n",
    "            \n",
    "            for key, value in trial[testname_list[0]].items(): \n",
    "                x_data = x_data + 1\n",
    "            data = [0]*x_data\n",
    "            test = 0\n",
    "            for names in testname_list:\n",
    "                if test == 0: \n",
    "                    for key, value in trial[names].items():\n",
    "                        data[idx] = [key, value]\n",
    "                        idx = idx + 1\n",
    "                    test = test + 1\n",
    "                    idx= 0\n",
    "                else:  \n",
    "                    for key,value in trial[names].items():\n",
    "                        data[idx].append(value)\n",
    "                        idx = idx +1\n",
    "                    test = test + 1\n",
    "                    idx = 0\n",
    "    "
   ]
  },
  {
   "cell_type": "markdown",
   "id": "672eb209",
   "metadata": {},
   "source": [
    "# Constants "
   ]
  },
  {
   "cell_type": "code",
   "execution_count": null,
   "id": "ab7ead83",
   "metadata": {
    "scrolled": false
   },
   "outputs": [],
   "source": [
    "if forward == 1:\n",
    "    if test_type == 1894: \n",
    "        if num_tests == 1:\n",
    "            head = [\"Varaible\", \"Value\"]\n",
    "            print(tabulate(constants, tablefmt=\"grid\"))\n",
    "        else: \n",
    "            print (\"no info given\")\n",
    "    "
   ]
  },
  {
   "cell_type": "markdown",
   "id": "af513b9e",
   "metadata": {},
   "source": [
    "# Engergy Calculations"
   ]
  },
  {
   "cell_type": "code",
   "execution_count": null,
   "id": "57cc4e45",
   "metadata": {
    "scrolled": false
   },
   "outputs": [],
   "source": [
    "if forward == 1:\n",
    "    if test_type == 1894: \n",
    "        if num_tests == 1: \n",
    "            head = [\"Varaible\", \"High Power Value\", \"Medium Power Value\",\"Low Power Value\", \"Units\"]\n",
    "            print(tabulate(data, headers=head, tablefmt=\"grid\"))\n",
    "        else: \n",
    "            head = [] \n",
    "            head.append(\"Variable\")\n",
    "            for names in testname_list: \n",
    "                head.append(names)\n",
    "            print(tabulate(data, headers=head, tablefmt=\"grid\"))"
   ]
  },
  {
   "cell_type": "markdown",
   "id": "874c01da",
   "metadata": {},
   "source": [
    "# Comparison"
   ]
  },
  {
   "cell_type": "code",
   "execution_count": null,
   "id": "2a64a304",
   "metadata": {},
   "outputs": [],
   "source": [
    "if forward == 1: \n",
    "    if test_type == 1894: \n",
    "        if num_tests == 1:\n",
    "            print(\"No comparison needed\")\n",
    "        else:\n",
    "            x_data = 0\n",
    "            idx  = 0\n",
    "\n",
    "            # find number of values \n",
    "            for key,value in averages.items():\n",
    "                x_data = x_data + 1\n",
    "            holder = [0]*x_data\n",
    "\n",
    "            # add averages to list \n",
    "            for key,value in averages.items():\n",
    "                holder[idx]=[key,value]\n",
    "                idx = idx + 1\n",
    "            idx = 0\n",
    "\n",
    "            # add N to list \n",
    "            for k_N,v_N in N.items():\n",
    "                holder[idx].append(v_N)\n",
    "                idx = idx + 1\n",
    "            idx = 0\n",
    "\n",
    "            #add stadev to list \n",
    "            for k_s,v_s in stadev.items():\n",
    "                holder[idx].append(v_s)\n",
    "                idx = idx + 1\n",
    "            idx = 0\n",
    "\n",
    "            #add interval to list \n",
    "            for k_i,v_i in stadev.items():\n",
    "                holder[idx].append(v_i)\n",
    "                idx = idx + 1\n",
    "            idx = 0\n",
    "\n",
    "            #add high_tier to list \n",
    "            for k_h,v_h in high_tier.items():\n",
    "                holder[idx].append(v_h)\n",
    "                idx = idx + 1\n",
    "            idx = 0\n",
    "\n",
    "            #add low tier to list \n",
    "            for k_l,v_l in low_tier.items():\n",
    "                holder[idx].append(v_l)\n",
    "                idx = idx + 1\n",
    "            idx = 0\n",
    "\n",
    "            #add COV to list \n",
    "            for k_c,v_c in COV.items():\n",
    "                holder[idx].append(v_c)\n",
    "                idx = idx + 1\n",
    "            idx = 0\n",
    "\n",
    "            head = [\"Variable\", \"Averages\", \"N\",\"Stadev\", \"Interval\", \"High Tier\", \"Low Tier\", \"COV\"]\n",
    "\n",
    "            print(tabulate(holder,headers = head, tablefmt=\"grid\"))\n"
   ]
  },
  {
   "cell_type": "markdown",
   "id": "2dbc6ae6",
   "metadata": {},
   "source": [
    "# Adjust Calculations\n",
    "\n",
    "This section will adjust the data due to the sensor calibration. \n",
    "\n",
    "A popup window will appear\n",
    "1) It will ask if you want to save and close the header file\n",
    "2) Press ok\n",
    "3) It will ask to enter the sensorbox firmware version\n",
    "4) Enter the firmware version (SB4003.16 is the default) \n",
    "5) Press ok \n",
    "6) It will tell you \"the following plots show the effect of the recalulation. Close the plots to continue\" \n",
    "7) Press ok \n",
    "8) 2 plots per test will appear in the notebook \n",
    "\n",
    "Must Have \n",
    "1) file in the same folder as the initial excel file with the name \"test_RawData.csv\" (in replace of test will be your test name)\n",
    "\n",
    "Must Run \n",
    "1) SetUp Section \n",
    "2) Path for Data Entry Form Section \n",
    "\n",
    "Will Output \n",
    "1) a file in the same folder as the initial excel file with the name \"test_RawData_Recalibrated.csv\" (in replace of test will be your test name)\n",
    "2) a file in the same folder as the initial excel file with the name \"test_Header.csv\" (in replace of test will be your test name)"
   ]
  },
  {
   "cell_type": "code",
   "execution_count": null,
   "id": "878aff87",
   "metadata": {},
   "outputs": [],
   "source": [
    "print(\"Would you like to adjust sensor calibrations? Press 0-No 1-Yes\")\n",
    "forward = int(input())"
   ]
  },
  {
   "cell_type": "code",
   "execution_count": null,
   "id": "a0104f46",
   "metadata": {},
   "outputs": [],
   "source": [
    "if forward == 1: \n",
    "    if test_type == 1894:\n",
    "        import LEMS_Adjust_Calibrations as adjust\n",
    "    elif test_type == 1952:\n",
    "        print(\"No code has yet been figured out for this test type\")\n",
    "    else: \n",
    "        print(\"Test Type unavaible\")\n",
    "else:\n",
    "    print(\"Adust Sensor Calibrations skipped\")"
   ]
  },
  {
   "cell_type": "code",
   "execution_count": null,
   "id": "b85fe86b",
   "metadata": {
    "scrolled": false
   },
   "outputs": [],
   "source": [
    "if forward == 1:  \n",
    "    if test_type == 1894: \n",
    "        for idx in range (num_tests):\n",
    "            cstr= \" This is for \" + testname_list[idx] + \" \"\n",
    "            print (Fore.BLUE + cstr.center(70, '-'))\n",
    "            print(Style.RESET_ALL)\n",
    "            inputpath=os.path.join(directory_list[idx],testname_list[idx]+'_RawData.csv')\n",
    "            outputpath=os.path.join(directory_list[idx],testname_list[idx]+'_RawData_Recalibrated.csv')\n",
    "            headerpath = os.path.join(directory_list[idx],testname_list[idx]+'_Header.csv')\n",
    "            adjust.LEMS_Adjust_Calibrations(inputpath,outputpath,headerpath,logpath)"
   ]
  },
  {
   "cell_type": "markdown",
   "id": "ef010cb5",
   "metadata": {},
   "source": [
    "# Time Shift Calculations \n",
    "\n",
    "This section will complete a time shift to the given data.\n",
    "\n",
    "A pop up window will appear\n",
    "1) It will ask you to enter the seconds to shift each data series \n",
    "2) Enter the seconds to shift each data series for all the given variables \n",
    "3) Press ok (if you can not see ok, grab the top of the popup window and drag until you can see the whole window) \n",
    "4) Nothing else will happen and Nothing will appear on the notebook (that is what is supposed to happen) \n",
    "\n",
    "Must Have \n",
    "1) file in the same folder as the initial excel file with the name \"test_RawData_Recalibrated.csv\" (in replace of test will be your test name). This will come from running the Adjust Calculation Section \n",
    "\n",
    "Must Run \n",
    "1) SetUp Section \n",
    "2) Path for Data Entry Form Section \n",
    "3) Adjust Calculations Section \n",
    "\n",
    "Will Output \n",
    "1) a file in the same folder as the initial excel file with the name \"test_TimeShifts.csv\" (in replace of test will be your test name)\n",
    "2) a file in the same folder as the initial excel file with the name \"test_RawData_Shifted.csv\" (in replace of test will be your test name)"
   ]
  },
  {
   "cell_type": "code",
   "execution_count": null,
   "id": "9ed9255e",
   "metadata": {},
   "outputs": [],
   "source": [
    "print(\"Would you like to correct for response times? Press 0-No 1-Yes\")\n",
    "forward = int(input())"
   ]
  },
  {
   "cell_type": "code",
   "execution_count": null,
   "id": "8ae2e6ec",
   "metadata": {},
   "outputs": [],
   "source": [
    "if forward == 1: \n",
    "    if test_type == 1894:\n",
    "        import LEMS_ShiftTimeSeries as time\n",
    "    elif test_type == 1952:\n",
    "        print(\"No code has yet been figured out for this test type\")\n",
    "    else: \n",
    "        print(\"Test Type unavaible\")\n",
    "else: \n",
    "    print(\"Correcting for response times skipped\")"
   ]
  },
  {
   "cell_type": "code",
   "execution_count": null,
   "id": "0d4da511",
   "metadata": {
    "scrolled": false
   },
   "outputs": [],
   "source": [
    "if forward == 1: \n",
    "    if test_type == 1894:\n",
    "        for idx in range(num_tests):\n",
    "            cstr= \" This is for \" + testname_list[idx] + \" \"\n",
    "            print (Fore.BLUE + cstr.center(70, '-'))\n",
    "            print(Style.RESET_ALL)\n",
    "            inputpath=os.path.join(directory_list[idx],testname_list[idx]+'_RawData_Recalibrated.csv')\n",
    "            outputpath=os.path.join(directory_list[idx],testname_list[idx]+'_RawData_Shifted.csv')\n",
    "            timespath = os.path.join(directory_list[idx],testname_list[idx]+'_TimeShifts.csv')\n",
    "            time.LEMS_ShiftTimeSeries(inputpath,outputpath,timespath,logpath)"
   ]
  },
  {
   "cell_type": "markdown",
   "id": "88291740",
   "metadata": {},
   "source": [
    "#  Subtracting background\n",
    "This section will take into account the background. \n",
    "\n",
    "A popup window will appear \n",
    "1) It will ask you to edit phase times in the format hour(hh):minutes(mm):second(ss) where two numbers are given for each category \n",
    "2) If the phase times you want are different than what is there (Can skip to step 3) \n",
    "    \n",
    "    2a) edit the phase times \n",
    "    \n",
    "    2b) press ok \n",
    "    \n",
    "    2c) continue this process until all the phase times you want to consider and entered and follow on to step 3 \n",
    "\n",
    "3) If the phase times you want to subtract are in the box already (the default values) \n",
    "    \n",
    "    3a) Press Cancel \n",
    "    \n",
    "    3b) two graphs and two tables will appear in the notebook \n",
    "\n",
    "\n",
    "Must Have \n",
    "1) file in the same folder as the initial excel file with the name \"test_RawData_Shifted.csv\" (in replace of test will be your test name) (comes from Time Shift Calculation Section) \n",
    "2) file in the same folder as the initial excel file with the name \"test_EnergyInputs.csv\" (in replace of test will be your test name)\n",
    "\n",
    "Must Run \n",
    "1) SetUp Section \n",
    "2) Path for Data Entry Form Section\n",
    "3) Adjust Calculations Section \n",
    "4) Time Shift Calculations Section \n",
    "\n",
    "Will Output \n",
    "1) a file in the same folder as the initial excel file with the name \"test_TimeSeries.csv\" (in replace of test will be your test name)\n",
    "2) a file in the same folder as the initial excel file with the name \"test_Averages.csv\" (in replace of test will be your test name)\n",
    "3) a file in the same folder as the initial excel file with the name \"test_PhaseTimes.csv\" (in replace of test will be your test name)\n",
    "4) Graphs and Tables that come after the popup window "
   ]
  },
  {
   "cell_type": "code",
   "execution_count": null,
   "id": "08cce285",
   "metadata": {},
   "outputs": [],
   "source": [
    "print(\"Would you like to subtract background? Press 0-No 1-Yes\")\n",
    "forward = int(input())"
   ]
  },
  {
   "cell_type": "code",
   "execution_count": null,
   "id": "17f77015",
   "metadata": {},
   "outputs": [],
   "source": [
    "if forward == 1: \n",
    "    if test_type == 1894:\n",
    "        import LEMS_SubtractBkg as sub\n",
    "    elif test_type == 1952:\n",
    "        print(\"No code has yet been figured out for this test type\")\n",
    "    else: \n",
    "        print(\"Test Type unavaible\")\n",
    "else: \n",
    "    print(\"Subtracting Background skipped\")"
   ]
  },
  {
   "cell_type": "code",
   "execution_count": null,
   "id": "27a480cc",
   "metadata": {
    "scrolled": false
   },
   "outputs": [],
   "source": [
    "if forward == 1: \n",
    "    if test_type == 1894: \n",
    "        for idx in range(num_tests):   \n",
    "            cstr= \" This is for \" + testname_list[idx] + \" \"\n",
    "            print (Fore.BLUE + cstr.center(70, '-'))\n",
    "            print(Style.RESET_ALL)\n",
    "            inputpath=os.path.join(directory_list[idx],testname_list[idx]+'_RawData_Shifted.csv')\n",
    "            energyinputpath = os.path.join(directory_list[idx],testname_list[idx]+'_EnergyInputs.csv')\n",
    "            outputpath=os.path.join(directory_list[idx],testname_list[idx]+'_TimeSeries.csv')\n",
    "            aveoutputpath=os.path.join(directory_list[idx],testname_list[idx]+'_Averages.csv')\n",
    "            timespath = os.path.join(directory_list[idx],testname_list[idx]+'_PhaseTimes.csv')\n",
    "            sub.LEMS_SubtractBkg(inputpath,energyinputpath,outputpath,aveoutputpath,timespath,logpath)"
   ]
  },
  {
   "cell_type": "markdown",
   "id": "6cdadd52",
   "metadata": {},
   "source": [
    "# Gravimetric Calculations \n",
    "This section will calculate Gravimetric Data \n",
    "\n",
    "\n",
    "Must Have \n",
    "1) file in the same folder as the initial excel file with the name \"test_GravInputs.csv\" (in replace of test will be your test name)\n",
    "2) file in the same folder as the initial excel file with the name \"test_Averages.csv\" (in replace of test will be your test name) (comes from Subtracting Background Section) \n",
    "\n",
    "Must Run \n",
    "1) SetUp Section \n",
    "2) Path for Data Entry Form Section\n",
    "3) Adjust Calculations Section \n",
    "4) Time Shifts Calculations Section \n",
    "5) Subtracting Background Section \n",
    "\n",
    "Will Output \n",
    "1) a file in the same folder as the initial excel file with the name \"test_PhaseTimes.csv\" (in replace of test will be your test name)\n",
    "2) a file in the same folder as the initial excel file with the name \"test_GravOutputs.csv\" (in replace of test will be your test name)\n",
    "3) a table with the gavimetric data \n"
   ]
  },
  {
   "cell_type": "code",
   "execution_count": null,
   "id": "6cb3c061",
   "metadata": {},
   "outputs": [],
   "source": [
    "print(\"Would you like to calculate gravimetric PM? Press 0-No 1-Yes\")\n",
    "forward = int(input())"
   ]
  },
  {
   "cell_type": "code",
   "execution_count": null,
   "id": "eaf93964",
   "metadata": {},
   "outputs": [],
   "source": [
    "if forward == 1: \n",
    "    if test_type == 1894: \n",
    "        import LEMS_GravCalcs as GravCalcs\n",
    "    elif test_type == 1952:\n",
    "        print(\"No code has yet been figured out for this test type\")\n",
    "    else: \n",
    "        print(\"Test Type unavaible\")\n",
    "else: \n",
    "    print(\"Gravimetric Calulations skipped\")"
   ]
  },
  {
   "cell_type": "code",
   "execution_count": null,
   "id": "fb766263",
   "metadata": {},
   "outputs": [],
   "source": [
    "if forward == 1:\n",
    "    if test_type == 1894: \n",
    "        for idx in range(num_tests):\n",
    "            cstr= \" This is for \" + testname_list[idx] + \" \"\n",
    "            print (Fore.BLUE + cstr.center(70, '-'))\n",
    "            print(Style.RESET_ALL)\n",
    "            gravinputpath=os.path.join(directory_list[idx],testname_list[idx]+'_GravInputs.csv')\n",
    "            aveinputpath = os.path.join(directory_list[idx],testname_list[idx]+'_Averages.csv')\n",
    "            timespath = os.path.join(directory_list[idx],testname_list[idx]+'_PhaseTimes.csv')\n",
    "            gravoutputpath=os.path.join(directory_list[idx],testname_list[idx]+'_GravOutputs.csv')\n",
    "            GravCalcs.LEMS_GravCalcs(gravinputpath,aveinputpath,timespath,gravoutputpath,logpath)"
   ]
  },
  {
   "cell_type": "markdown",
   "id": "f1fcaec6",
   "metadata": {},
   "source": [
    "#  Emmision Calculations \n",
    "This section will calculate Emissions Data.  \n",
    "\n",
    "Must Have \n",
    "1) file in the same folder as the initial excel file with the name \"test_EnergyOutputs.csv\" (in replace of test will be your test name)\n",
    "2) file in the same folder as the initial excel file with the name \"test_TimeSeries.csv\" (in replace of test will be your test name) (comes from Subtracting Background Section) \n",
    "3) file in the same folder as the initial excel file with the name \"test_GavOutputs.csv\" (in replace of test will be your test name) (comes from Subtracting Background Section)\n",
    "4) file in the same folder as the initial excel file with the name \"test_Averages.csv\" (in replace of test will be your test name) (comes from Gavimetric Calculation Section)\n",
    "\n",
    "Must Run \n",
    "1) SetUp Section \n",
    "2) Path for Data Entry Form Section\n",
    "3) Energy Calculation Section  \n",
    "4) Adjust Calculations Section \n",
    "5) Time Shifts Calculations Section \n",
    "6) Subtracting Background Section \n",
    "7) Gavimetric Calculation Section \n",
    "\n",
    "Will Output \n",
    "1) a file in the same folder as the initial excel file with the name \"test_PhaseTimes.csv\" (in replace of test will be your test name)\n",
    "2) a file in the same folder as the initial excel file with the name \"test_EmissionOutputs.csv\" (in replace of test will be your test name)\n",
    "3) a file in the same folder as the initial excel file with the name \"test_AllOutputs.csv\" (in replace of test will be your test name)\n",
    "4) Data table with emissions data \n",
    "\n"
   ]
  },
  {
   "cell_type": "code",
   "execution_count": null,
   "id": "f2bda648",
   "metadata": {},
   "outputs": [],
   "source": [
    "print(\"Would you like to calculate emission metrics? Press 0-No 1-Yes\")\n",
    "forward = int(input())"
   ]
  },
  {
   "cell_type": "code",
   "execution_count": null,
   "id": "561b6091",
   "metadata": {},
   "outputs": [],
   "source": [
    "if forward == 1: \n",
    "    if test_type == 1894: \n",
    "        import LEMS_EmissionCalcs as emis\n",
    "    elif test_type == 1952:\n",
    "        print(\"No code has yet been figured out for this test type\")\n",
    "    else: \n",
    "        print(\"Test Type unavaible\")\n",
    "else: \n",
    "    print(\"Calulating Emission Metrics skipped\")"
   ]
  },
  {
   "cell_type": "code",
   "execution_count": null,
   "id": "70e4ac2f",
   "metadata": {
    "scrolled": false
   },
   "outputs": [],
   "source": [
    "if forward == 1: \n",
    "    if test_type == 1894: \n",
    "        for idx in range(num_tests):\n",
    "            cstr= \" This is for \" + testname_list[idx] + \" \"\n",
    "            print (Fore.BLUE + cstr.center(70, '-'))\n",
    "            print(Style.RESET_ALL)\n",
    "            inputpath=os.path.join(directory_list[idx],testname_list[idx]+'_TimeSeries.csv')\n",
    "            energypath=os.path.join(directory_list[idx],testname_list[idx]+'_EnergyOutputs.csv')\n",
    "            gravinputpath=os.path.join(directory_list[idx],testname_list[idx]+'_GravOutputs.csv')\n",
    "            aveinputpath = os.path.join(directory_list[idx],testname_list[idx]+'_Averages.csv')\n",
    "            timespath = os.path.join(directory_list[idx],testname_list[idx]+'_PhaseTimes.csv')\n",
    "            emisoutputpath=os.path.join(directory_list[idx],testname_list[idx]+'_EmissionOutputs.csv')\n",
    "            alloutputpath=os.path.join(directory_list[idx],testname_list[idx]+'_AllOutputs.csv')\n",
    "            allnames,allunits,allval,allunc,alluval = emis.LEMS_EmissionCalcs(inputpath,energypath,gravinputpath,aveinputpath,emisoutputpath,alloutputpath,logpath)\n",
    "            data = [0]*len(allnames)\n",
    "            for x in range(len(allnames)):\n",
    "                data[x] = [allnames[x], allunits[allnames[x]], allval[allnames[x]], allunc[allnames[x]]]\n",
    "            print(tabulate(data, tablefmt=\"grid\"))\n"
   ]
  },
  {
   "cell_type": "markdown",
   "id": "4ab5874a",
   "metadata": {},
   "source": [
    "#  Real Time Data Plotting \n",
    "This section will plot the real time data. \n",
    "\n",
    "Must Have \n",
    "1) file in the same folder as the initial excel file with the name \"test_TimeSeries.csv\" (in replace of test will be your test name) (comes from Subtracting Background Section) \n",
    "\n",
    "Must Run \n",
    "1) SetUp Section \n",
    "2) Path for Data Entry Form Section\n",
    "3) Energy Calculation Section  \n",
    "4) Adjust Calculations Section \n",
    "5) Time Shifts Calculations Section \n",
    "6) Subtracting Background Section \n",
    "\n",
    "\n",
    "Will Output \n",
    "1) a file in the same folder as the initial excel file with the name \"test_plots.csv\" (in replace of test will be your test name)\n",
    "2) a graph \n",
    "\n",
    "You can update the test_plots.csv file to change your plot. If you make a change to the tests_plots.csv file you will need to rerun the plotting code \n",
    "\n",
    "To rerun the plotting code \n",
    "1) Scoll to the top of the notebook and click \"here\" to show the code \n",
    "2) Scoll back down to the bottom of the code and select the box below this (it will say import PEMS_Plotter1 as plotter at the top \n",
    "3) Hit run at the top of the screen (there is a sideways triangle before the word run) \n",
    "4) Scoll back to the top of the notebook and click \"here\" to hide the code \n"
   ]
  },
  {
   "cell_type": "code",
   "execution_count": null,
   "id": "45aa4609",
   "metadata": {},
   "outputs": [],
   "source": [
    "import PEMS_Plotter1 as plotter\n",
    "inputpath = os.path.join(directory_list[0],testname_list[0]+'_TimeSeries.csv')\n",
    "fuelpath = \"hello\"\n",
    "exactpath = \"hello\"\n",
    "plotpath = os.path.join(directory_list[0],testname_list[0]+'_plots.csv')\n",
    "plotter.PEMS_Plotter(inputpath, fuelpath, exactpath, plotpath)"
   ]
  },
  {
   "cell_type": "code",
   "execution_count": null,
   "id": "20fdac8a",
   "metadata": {},
   "outputs": [],
   "source": []
  }
 ],
 "metadata": {
  "kernelspec": {
   "display_name": "Python 3 (ipykernel)",
   "language": "python",
   "name": "python3"
  },
  "language_info": {
   "codemirror_mode": {
    "name": "ipython",
    "version": 3
   },
   "file_extension": ".py",
   "mimetype": "text/x-python",
   "name": "python",
   "nbconvert_exporter": "python",
   "pygments_lexer": "ipython3",
   "version": "3.10.7"
  }
 },
 "nbformat": 4,
 "nbformat_minor": 5
}
