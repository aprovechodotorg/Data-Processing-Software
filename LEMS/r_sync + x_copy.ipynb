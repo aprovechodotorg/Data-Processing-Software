{
 "cells": [
  {
   "cell_type": "markdown",
   "id": "23f3ef67",
   "metadata": {},
   "source": [
    "# Enter the local file/folder you want to copy "
   ]
  },
  {
   "cell_type": "code",
   "execution_count": null,
   "id": "370308cd",
   "metadata": {},
   "outputs": [],
   "source": [
    "local_file = str(input())"
   ]
  },
  {
   "cell_type": "markdown",
   "id": "a54c6b1b",
   "metadata": {},
   "source": [
    "# Enter your username for the remote server you are connecting to "
   ]
  },
  {
   "cell_type": "code",
   "execution_count": null,
   "id": "f1eebde3",
   "metadata": {},
   "outputs": [],
   "source": [
    "user = str(input())"
   ]
  },
  {
   "cell_type": "markdown",
   "id": "bfed7fac",
   "metadata": {},
   "source": [
    "# Enter your the remote server you are connecting to "
   ]
  },
  {
   "cell_type": "code",
   "execution_count": null,
   "id": "3af80174",
   "metadata": {},
   "outputs": [],
   "source": [
    "remote_host = str(input())"
   ]
  },
  {
   "cell_type": "markdown",
   "id": "02c907d4",
   "metadata": {},
   "source": [
    "# Enter the file/folder name you want for the remote server  "
   ]
  },
  {
   "cell_type": "code",
   "execution_count": null,
   "id": "ff1bab8e",
   "metadata": {},
   "outputs": [],
   "source": [
    "remote_file = str(input())"
   ]
  },
  {
   "cell_type": "code",
   "execution_count": null,
   "id": "23caf1b8",
   "metadata": {},
   "outputs": [],
   "source": [
    "rsync_string = str(\"rsync -a \" + local_file + \" \" + user + \"@\" + remote_host + \":\" + remote_file)\n",
    "#xcopy_string = \"xcopy /A \" + local_file + \" \" + user + \"@\" + remote_host + \":\" + remote_file\n",
    "#xcopy_string = \"xcopy /A \" +local_file +  \" \" + remote_file "
   ]
  },
  {
   "cell_type": "code",
   "execution_count": null,
   "id": "0167a619",
   "metadata": {},
   "outputs": [],
   "source": [
    "#print(rsync_string)\n",
    "#print(xcopy_string)"
   ]
  },
  {
   "cell_type": "code",
   "execution_count": null,
   "id": "6ca5ae92",
   "metadata": {},
   "outputs": [],
   "source": [
    "import os"
   ]
  },
  {
   "cell_type": "code",
   "execution_count": null,
   "id": "bf3a8e64",
   "metadata": {
    "scrolled": false
   },
   "outputs": [],
   "source": [
    "os.system(rsync_string)"
   ]
  },
  {
   "cell_type": "code",
   "execution_count": null,
   "id": "e9a27687",
   "metadata": {},
   "outputs": [],
   "source": [
    "#os.system(xcopy_string)"
   ]
  }
 ],
 "metadata": {
  "kernelspec": {
   "display_name": "Python 3 (ipykernel)",
   "language": "python",
   "name": "python3"
  },
  "language_info": {
   "codemirror_mode": {
    "name": "ipython",
    "version": 3
   },
   "file_extension": ".py",
   "mimetype": "text/x-python",
   "name": "python",
   "nbconvert_exporter": "python",
   "pygments_lexer": "ipython3",
   "version": "3.10.7"
  }
 },
 "nbformat": 4,
 "nbformat_minor": 5
}
